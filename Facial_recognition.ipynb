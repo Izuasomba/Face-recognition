{
 "cells": [
  {
   "cell_type": "code",
   "execution_count": 51,
   "metadata": {
    "id": "QsG_-684mZIT",
    "vscode": {
     "languageId": "python"
    }
   },
   "outputs": [],
   "source": [
    "#importing standard dependencies\n",
    "import cv2\n",
    "import os\n",
    "import random\n",
    "import numpy as np\n",
    "import matplotlib.pyplot as plt"
   ]
  },
  {
   "cell_type": "code",
   "execution_count": 52,
   "metadata": {
    "id": "B8ddnnLAmxbE",
    "vscode": {
     "languageId": "python"
    }
   },
   "outputs": [],
   "source": [
    "# import tensorflow dependencies - Functional API\n",
    "from tensorflow.keras.models import Model\n",
    "from tensorflow.keras.layers import Layer, Conv2D, Dense, MaxPooling2D, Input, Flatten\n",
    "import tensorflow as tf"
   ]
  },
  {
   "cell_type": "code",
   "execution_count": 53,
   "metadata": {
    "id": "P_CNFh2poXM9",
    "vscode": {
     "languageId": "python"
    }
   },
   "outputs": [
    {
     "ename": "NameError",
     "evalue": "name 'list_physical_devices' is not defined",
     "output_type": "error",
     "traceback": [
      "\u001b[1;31m---------------------------------------------------------------------------\u001b[0m",
      "\u001b[1;31mNameError\u001b[0m                                 Traceback (most recent call last)",
      "Cell \u001b[1;32mIn[53], line 2\u001b[0m\n\u001b[0;32m      1\u001b[0m \u001b[39m#Avoid out of memory error by setting gpu consumption growth\u001b[39;00m\n\u001b[1;32m----> 2\u001b[0m gpus \u001b[39m=\u001b[39m tf\u001b[39m.\u001b[39mconfig\u001b[39m.\u001b[39mexperimental,list_physical_devices(\u001b[39m\"\u001b[39m\u001b[39mGPU\u001b[39m\u001b[39m\"\u001b[39m)\n\u001b[0;32m      3\u001b[0m \u001b[39mfor\u001b[39;00m gpu \u001b[39min\u001b[39;00m gpus:\n\u001b[0;32m      4\u001b[0m   tf\u001b[39m.\u001b[39mconfig\u001b[39m.\u001b[39mexperimental\u001b[39m.\u001b[39mset_memory_growth(gpu,\u001b[39mTrue\u001b[39;00m)\n",
      "\u001b[1;31mNameError\u001b[0m: name 'list_physical_devices' is not defined"
     ]
    }
   ],
   "source": [
    "#Avoid out of memory error by setting gpu consumption growth\n",
    "gpus = tf.config.experimental,list_physical_devices(\"GPU\")\n",
    "for gpu in gpus:\n",
    "  tf.config.experimental.set_memory_growth(gpu,True)"
   ]
  },
  {
   "attachments": {},
   "cell_type": "markdown",
   "metadata": {
    "id": "hLGLoa30u5Rt"
   },
   "source": [
    "Create Folder Structures"
   ]
  },
  {
   "cell_type": "code",
   "execution_count": 54,
   "metadata": {
    "id": "zfE8Q9_8moZ6",
    "vscode": {
     "languageId": "python"
    }
   },
   "outputs": [],
   "source": [
    "#Setup paths\n",
    "NEG_PATH= os.path.join(\"data\", \"negative\")\n",
    "POS_PATH = os.path.join(\"data\", \"positive\")\n",
    "ANC_PATH = os.path.join(\"data\", \"anchor\")"
   ]
  },
  {
   "cell_type": "code",
   "execution_count": 55,
   "metadata": {
    "id": "uTmUa3DWuXAy",
    "vscode": {
     "languageId": "python"
    }
   },
   "outputs": [
    {
     "ename": "FileExistsError",
     "evalue": "[WinError 183] Cannot create a file when that file already exists: 'data\\\\positive'",
     "output_type": "error",
     "traceback": [
      "\u001b[1;31m---------------------------------------------------------------------------\u001b[0m",
      "\u001b[1;31mFileExistsError\u001b[0m                           Traceback (most recent call last)",
      "Cell \u001b[1;32mIn[55], line 2\u001b[0m\n\u001b[0;32m      1\u001b[0m \u001b[39m#Make directories\u001b[39;00m\n\u001b[1;32m----> 2\u001b[0m os\u001b[39m.\u001b[39;49mmakedirs(POS_PATH)\n\u001b[0;32m      3\u001b[0m os\u001b[39m.\u001b[39mmakedirs(NEG_PATH)\n\u001b[0;32m      4\u001b[0m os\u001b[39m.\u001b[39mmakedirs(ANC_PATH)\n",
      "File \u001b[1;32m~\\anaconda3\\lib\\os.py:225\u001b[0m, in \u001b[0;36mmakedirs\u001b[1;34m(name, mode, exist_ok)\u001b[0m\n\u001b[0;32m    223\u001b[0m         \u001b[39mreturn\u001b[39;00m\n\u001b[0;32m    224\u001b[0m \u001b[39mtry\u001b[39;00m:\n\u001b[1;32m--> 225\u001b[0m     mkdir(name, mode)\n\u001b[0;32m    226\u001b[0m \u001b[39mexcept\u001b[39;00m \u001b[39mOSError\u001b[39;00m:\n\u001b[0;32m    227\u001b[0m     \u001b[39m# Cannot rely on checking for EEXIST, since the operating system\u001b[39;00m\n\u001b[0;32m    228\u001b[0m     \u001b[39m# could give priority to other errors like EACCES or EROFS\u001b[39;00m\n\u001b[0;32m    229\u001b[0m     \u001b[39mif\u001b[39;00m \u001b[39mnot\u001b[39;00m exist_ok \u001b[39mor\u001b[39;00m \u001b[39mnot\u001b[39;00m path\u001b[39m.\u001b[39misdir(name):\n",
      "\u001b[1;31mFileExistsError\u001b[0m: [WinError 183] Cannot create a file when that file already exists: 'data\\\\positive'"
     ]
    }
   ],
   "source": [
    "#Make directories\n",
    "os.makedirs(POS_PATH)\n",
    "os.makedirs(NEG_PATH)\n",
    "os.makedirs(ANC_PATH)"
   ]
  },
  {
   "cell_type": "code",
   "execution_count": 65,
   "metadata": {
    "id": "7gg0MgoE3kUq",
    "vscode": {
     "languageId": "python"
    }
   },
   "outputs": [
    {
     "name": "stderr",
     "output_type": "stream",
     "text": [
      "tar: Error opening archive: Failed to open 'lfw.tgz'\n"
     ]
    }
   ],
   "source": [
    "#uNcompress tar gz labelled faces in the wild dataset\n",
    "!tar -xf lfw.tgz"
   ]
  },
  {
   "cell_type": "code",
   "execution_count": null,
   "metadata": {
    "id": "HxNI5bHXDmlQ",
    "vscode": {
     "languageId": "python"
    }
   },
   "outputs": [
    {
     "ename": "FileNotFoundError",
     "evalue": "[WinError 3] The system cannot find the path specified: 'lfw'",
     "output_type": "error",
     "traceback": [
      "\u001b[1;31m---------------------------------------------------------------------------\u001b[0m",
      "\u001b[1;31mFileNotFoundError\u001b[0m                         Traceback (most recent call last)",
      "Cell \u001b[1;32mIn[66], line 2\u001b[0m\n\u001b[0;32m      1\u001b[0m \u001b[38;5;66;03m# move all the images in lfw directory to the negative folder\u001b[39;00m\n\u001b[1;32m----> 2\u001b[0m \u001b[38;5;28;01mfor\u001b[39;00m directory \u001b[38;5;129;01min\u001b[39;00m \u001b[43mos\u001b[49m\u001b[38;5;241;43m.\u001b[39;49m\u001b[43mlistdir\u001b[49m\u001b[43m(\u001b[49m\u001b[38;5;124;43m\"\u001b[39;49m\u001b[38;5;124;43mlfw\u001b[39;49m\u001b[38;5;124;43m\"\u001b[39;49m\u001b[43m)\u001b[49m:\n\u001b[0;32m      3\u001b[0m   \u001b[38;5;28;01mfor\u001b[39;00m file \u001b[38;5;129;01min\u001b[39;00m os\u001b[38;5;241m.\u001b[39mlistdir(os\u001b[38;5;241m.\u001b[39mpath\u001b[38;5;241m.\u001b[39mjoin(\u001b[38;5;124m\"\u001b[39m\u001b[38;5;124mlfw\u001b[39m\u001b[38;5;124m\"\u001b[39m, directory)):\n\u001b[0;32m      4\u001b[0m     EX_PATH \u001b[38;5;241m=\u001b[39m os\u001b[38;5;241m.\u001b[39mpath\u001b[38;5;241m.\u001b[39mjoin(\u001b[38;5;124m\"\u001b[39m\u001b[38;5;124mlfw\u001b[39m\u001b[38;5;124m\"\u001b[39m, directory, file)\n",
      "\u001b[1;31mFileNotFoundError\u001b[0m: [WinError 3] The system cannot find the path specified: 'lfw'"
     ]
    }
   ],
   "source": [
    "# move all the images in lfw directory to the negative folder\n",
    "for directory in os.listdir(\"lfw\"):\n",
    "  for file in os.listdir(os.path.join(\"lfw\", directory)):\n",
    "    EX_PATH = os.path.join(\"lfw\", directory, file)\n",
    "    NEW_PATH = os.path.join(NEG_PATH, file)\n",
    "    os.replace(EX_PATH, NEW_PATH)"
   ]
  },
  {
   "cell_type": "code",
   "execution_count": 67,
   "metadata": {
    "vscode": {
     "languageId": "python"
    }
   },
   "outputs": [],
   "source": [
    "#Import uuid library to generate unique image names\n",
    "import uuid"
   ]
  },
  {
   "cell_type": "code",
   "execution_count": 68,
   "metadata": {
    "id": "-A1grBsJNPWO",
    "vscode": {
     "languageId": "python"
    }
   },
   "outputs": [],
   "source": [
    "\n",
    "# Establish a connection to webcam\n",
    "cap = cv2.VideoCapture(0)\n",
    "while cap.isOpened():\n",
    "  ret, frame = cap.read()\n",
    "  \n",
    "  #cut down frame to 250x250 px\n",
    "  frame = frame[120:120+250,200:200+250, :]\n",
    "  \n",
    "  #collect anchors\n",
    "  if cv2.waitKey(1) & 0XFF == ord(\"a\"):\n",
    "    #create unique file path\n",
    "    imgname=os.path.join(ANC_PATH,\"{}.jpg\".format(uuid.uuid1()))\n",
    "    \n",
    "    #write out anchor image\n",
    "    cv2.imwrite(imgname,frame)\n",
    "  \n",
    "  #collect positives\n",
    "  if cv2.waitKey(1) & 0XFF == ord(\"p\"):\n",
    "    #create unique file path\n",
    "    imgname=os.path.join(POS_PATH,\"{}.jpg\".format(uuid.uuid1()))\n",
    "    \n",
    "    #write out positive image\n",
    "    cv2.imwrite(imgname,frame)\n",
    "\n",
    "  # Show image back to screen\n",
    "  cv2.imshow(\"Image Collection\", frame)\n",
    "\n",
    "#Breaking gracefully\n",
    "  if cv2.waitKey(1) & 0XFF == ord(\"q\"):\n",
    "    break\n",
    "\n",
    "# Release the webcam\n",
    "cap.release()\n",
    "\n",
    "# Close the image show frame\n",
    "cv2.destroyAllWindows()\n"
   ]
  },
  {
   "cell_type": "code",
   "execution_count": 57,
   "metadata": {
    "vscode": {
     "languageId": "python"
    }
   },
   "outputs": [],
   "source": [
    "#Get image directories\n",
    "anchor = tf.data.Dataset.list_files(ANC_PATH +\"\\*.jpg\").take(300)\n",
    "positive = tf.data.Dataset.list_files(POS_PATH +\"\\*.jpg\").take(300)\n",
    "negative = tf.data.Dataset.list_files(NEG_PATH +\"\\*.jpg\").take(300)"
   ]
  },
  {
   "cell_type": "code",
   "execution_count": 58,
   "metadata": {
    "vscode": {
     "languageId": "python"
    }
   },
   "outputs": [],
   "source": [
    "def preprocess(file_path):\n",
    "    \n",
    "    #Read in iage from file path\n",
    "    byte_img=tf.io.read_file(file_path)\n",
    "    \n",
    "    #Load in the image\n",
    "    img = tf.io.decode_jpeg(byte_img)\n",
    "    \n",
    "    #Resizing the image to 100x100x3\n",
    "    img = tf.image.resize(img,(100,100))\n",
    "    \n",
    "    #Scaling image\n",
    "    img=img/255.0\n",
    "    return img"
   ]
  },
  {
   "cell_type": "code",
   "execution_count": 71,
   "metadata": {
    "vscode": {
     "languageId": "python"
    }
   },
   "outputs": [],
   "source": [
    "# (anchor, positive) => 1,1,1,1,1\n",
    "# (anchor, negative) => 0,0,0,0,0"
   ]
  },
  {
   "cell_type": "code",
   "execution_count": 59,
   "metadata": {
    "vscode": {
     "languageId": "python"
    }
   },
   "outputs": [],
   "source": [
    "positives = tf.data.Dataset.zip((anchor,positive, tf.data.Dataset.from_tensor_slices(tf.ones(len(anchor)))))\n",
    "negatives = tf.data.Dataset.zip((anchor,negative, tf.data.Dataset.from_tensor_slices(tf.zeros(len(anchor)))))\n",
    "data = positives.concatenate(negatives)"
   ]
  },
  {
   "cell_type": "code",
   "execution_count": 60,
   "metadata": {
    "vscode": {
     "languageId": "python"
    }
   },
   "outputs": [],
   "source": [
    "def preprocess_twin(input_img, validation_img, label):\n",
    "    return(preprocess(input_img), preprocess(validation_img), label)"
   ]
  },
  {
   "cell_type": "code",
   "execution_count": 61,
   "metadata": {
    "vscode": {
     "languageId": "python"
    }
   },
   "outputs": [],
   "source": [
    "# Build Dataloader pipeline\n",
    "data = data.map(preprocess_twin)\n",
    "data = data.cache()\n",
    "data = data.shuffle(buffer_size=1024)"
   ]
  },
  {
   "cell_type": "code",
   "execution_count": 62,
   "metadata": {
    "vscode": {
     "languageId": "python"
    }
   },
   "outputs": [],
   "source": [
    "train_data = data.take(round(len(data)*.7))\n",
    "train_data = train_data.batch(16)\n",
    "train_data = train_data.prefetch(8)"
   ]
  },
  {
   "cell_type": "code",
   "execution_count": 63,
   "metadata": {
    "vscode": {
     "languageId": "python"
    }
   },
   "outputs": [],
   "source": [
    "test_data = data.skip(round(len(data)*.7))\n",
    "test_data = test_data.take(round(len(data)*.3))\n",
    "test_data = test_data.batch(18)\n",
    "test_data = test_data.prefetch(8)"
   ]
  },
  {
   "attachments": {},
   "cell_type": "markdown",
   "metadata": {},
   "source": [
    "## Model Engineering"
   ]
  },
  {
   "cell_type": "code",
   "execution_count": 64,
   "metadata": {
    "vscode": {
     "languageId": "python"
    }
   },
   "outputs": [],
   "source": [
    "def make_embedding():\n",
    "    input = Input(shape=(100,100,3), name=\"input_image\")\n",
    "    c1 = Conv2D(64,(10,10), activation=\"relu\")(input )\n",
    "    m1 = MaxPooling2D(64,(2,2), padding=\"same\")(c1)\n",
    "    c2 = Conv2D(128,(7,7), activation=\"relu\")(m1)\n",
    "    m2 = MaxPooling2D(64,(2,2), padding=\"same\")(c2)\n",
    "    c3 = Conv2D(128,(4,4), activation=\"relu\")(m2)\n",
    "    m3 = MaxPooling2D(64,(2,2), padding=\"same\")(c3)\n",
    "    c4 = Conv2D(256,(4,4), activation=\"relu\")(m3)\n",
    "    f1 = Flatten()(c4)\n",
    "    d1 = Dense(4096, activation=\"sigmoid\")(f1)\n",
    "    \n",
    "    \n",
    "    return Model(inputs=[input] ,outputs=[d1] ,name=\"embedding\")"
   ]
  },
  {
   "cell_type": "code",
   "execution_count": 65,
   "metadata": {
    "vscode": {
     "languageId": "python"
    }
   },
   "outputs": [],
   "source": [
    "embedding = make_embedding()"
   ]
  },
  {
   "cell_type": "code",
   "execution_count": 66,
   "metadata": {
    "vscode": {
     "languageId": "python"
    }
   },
   "outputs": [
    {
     "name": "stdout",
     "output_type": "stream",
     "text": [
      "Model: \"embedding\"\n",
      "_________________________________________________________________\n",
      " Layer (type)                Output Shape              Param #   \n",
      "=================================================================\n",
      " input_image (InputLayer)    [(None, 100, 100, 3)]     0         \n",
      "                                                                 \n",
      " conv2d_4 (Conv2D)           (None, 91, 91, 64)        19264     \n",
      "                                                                 \n",
      " max_pooling2d_3 (MaxPooling  (None, 46, 46, 64)       0         \n",
      " 2D)                                                             \n",
      "                                                                 \n",
      " conv2d_5 (Conv2D)           (None, 40, 40, 128)       401536    \n",
      "                                                                 \n",
      " max_pooling2d_4 (MaxPooling  (None, 20, 20, 128)      0         \n",
      " 2D)                                                             \n",
      "                                                                 \n",
      " conv2d_6 (Conv2D)           (None, 17, 17, 128)       262272    \n",
      "                                                                 \n",
      " max_pooling2d_5 (MaxPooling  (None, 9, 9, 128)        0         \n",
      " 2D)                                                             \n",
      "                                                                 \n",
      " conv2d_7 (Conv2D)           (None, 6, 6, 256)         524544    \n",
      "                                                                 \n",
      " flatten_1 (Flatten)         (None, 9216)              0         \n",
      "                                                                 \n",
      " dense_2 (Dense)             (None, 4096)              37752832  \n",
      "                                                                 \n",
      "=================================================================\n",
      "Total params: 38,960,448\n",
      "Trainable params: 38,960,448\n",
      "Non-trainable params: 0\n",
      "_________________________________________________________________\n"
     ]
    }
   ],
   "source": [
    "embedding.summary()"
   ]
  },
  {
   "cell_type": "code",
   "execution_count": 67,
   "metadata": {
    "vscode": {
     "languageId": "python"
    }
   },
   "outputs": [],
   "source": [
    "# Siamese L1 distance class\n",
    "class L1Dist(Layer):\n",
    "    \n",
    "    #Init method\n",
    "    def __init__(self,**kwargs):\n",
    "        super().__init__()\n",
    "        \n",
    "    #Similarity calculation\n",
    "    def call(self,input_embedding,validation_embedding):\n",
    "        return tf.math.abs(input_embedding - validation_embedding)\n",
    "    "
   ]
  },
  {
   "cell_type": "code",
   "execution_count": 68,
   "metadata": {
    "vscode": {
     "languageId": "python"
    }
   },
   "outputs": [],
   "source": [
    "def make_siamese_model():\n",
    "    \n",
    "    # Anchor image input\n",
    "    input_image = Input(name=\"input_img\", shape=(100,100,3))\n",
    "    \n",
    "    #Validation image\n",
    "    validation_image = Input(name=\"validation_img\", shape=(100,100,3))\n",
    "    \n",
    "    siamese_layer = L1Dist()\n",
    "    siamese_layer._name = \"distance\"\n",
    "    distances = siamese_layer(embedding(input_image), embedding(validation_image))\n",
    "    \n",
    "    #Classification layer\n",
    "    classifier = Dense(1, activation=\"sigmoid\")(distances)\n",
    "    return Model(inputs=[input_image, validation_image], outputs=classifier, name=\"SiameseNetwork\")\n",
    "    \n"
   ]
  },
  {
   "cell_type": "code",
   "execution_count": 69,
   "metadata": {
    "vscode": {
     "languageId": "python"
    }
   },
   "outputs": [],
   "source": [
    "siamese_model = make_siamese_model()"
   ]
  },
  {
   "attachments": {},
   "cell_type": "markdown",
   "metadata": {},
   "source": [
    "## Setting up Loss and Optimiser"
   ]
  },
  {
   "cell_type": "code",
   "execution_count": 70,
   "metadata": {
    "vscode": {
     "languageId": "python"
    }
   },
   "outputs": [],
   "source": [
    "binary_cross_loss=tf.losses.BinaryCrossentropy()"
   ]
  },
  {
   "cell_type": "code",
   "execution_count": 71,
   "metadata": {
    "vscode": {
     "languageId": "python"
    }
   },
   "outputs": [],
   "source": [
    "optimiser=tf.keras.optimizers.Adam(1e-4)\n"
   ]
  },
  {
   "attachments": {},
   "cell_type": "markdown",
   "metadata": {},
   "source": [
    "## Establishing checkpoints"
   ]
  },
  {
   "cell_type": "code",
   "execution_count": 72,
   "metadata": {
    "vscode": {
     "languageId": "python"
    }
   },
   "outputs": [],
   "source": [
    "checkpoint_directory=\"./training_checkpoints\"\n",
    "checkpoint_prefix=os.path.join(checkpoint_directory,\"ckpt\")\n",
    "checkpoint=tf.train.Checkpoint(optimiser=optimiser, siamese_model=siamese_model)"
   ]
  },
  {
   "cell_type": "code",
   "execution_count": 73,
   "metadata": {
    "vscode": {
     "languageId": "python"
    }
   },
   "outputs": [],
   "source": [
    "@tf.function\n",
    "def train_step(batch):\n",
    "    \n",
    "    with tf.GradientTape() as tape:\n",
    "        \n",
    "        #Get anchor and positive/negative image\n",
    "        X = batch[:2]\n",
    "        \n",
    "        #Get label\n",
    "        y=batch[2]\n",
    "        \n",
    "        yhat = siamese_model(X, training=True)\n",
    "        \n",
    "        #Calculate loss\n",
    "        loss = binary_cross_loss(y, yhat)\n",
    "        \n",
    "# Gradients\n",
    "    grad = tape.gradient(loss, siamese_model.trainable_variables)\n",
    "\n",
    "# Calculate updated weights and apply to siamese model\n",
    "    optimiser.apply_gradients(zip(grad, siamese_model.trainable_variables))\n",
    "    return loss"
   ]
  },
  {
   "cell_type": "code",
   "execution_count": 74,
   "metadata": {
    "vscode": {
     "languageId": "python"
    }
   },
   "outputs": [],
   "source": [
    "def train(data, EPOCHS):\n",
    "    for epoch in range(1, EPOCHS+1):\n",
    "        print(\"\\n Epoch {}/{}\".format(epoch, EPOCHS))\n",
    "        progbar = tf.keras.utils.Progbar(len(data))\n",
    "        \n",
    "        for idx, batch in enumerate(data):\n",
    "            train_step(batch)\n",
    "            progbar.update(idx+1)\n",
    "            \n",
    "        #Save checkpoint   \n",
    "        if epoch %10 == 0:\n",
    "            checkpoint.save(file_prefix=checkpoint_prefix)"
   ]
  },
  {
   "cell_type": "code",
   "execution_count": 29,
   "metadata": {
    "vscode": {
     "languageId": "python"
    }
   },
   "outputs": [],
   "source": [
    "EPOCHS = 50"
   ]
  },
  {
   "cell_type": "code",
   "execution_count": 71,
   "metadata": {
    "scrolled": true,
    "vscode": {
     "languageId": "python"
    }
   },
   "outputs": [
    {
     "name": "stdout",
     "output_type": "stream",
     "text": [
      "\n",
      " Epoch 1/50\n",
      "21/21 [==============================] - 138s 6s/step\n",
      "\n",
      " Epoch 2/50\n",
      "21/21 [==============================] - 129s 6s/step\n",
      "\n",
      " Epoch 3/50\n",
      "21/21 [==============================] - 129s 6s/step\n",
      "\n",
      " Epoch 4/50\n",
      "21/21 [==============================] - 130s 6s/step\n",
      "\n",
      " Epoch 5/50\n",
      "21/21 [==============================] - 125s 6s/step\n",
      "\n",
      " Epoch 6/50\n",
      "21/21 [==============================] - 132s 6s/step\n",
      "\n",
      " Epoch 7/50\n",
      "21/21 [==============================] - 132s 6s/step\n",
      "\n",
      " Epoch 8/50\n",
      "21/21 [==============================] - 131s 6s/step\n",
      "\n",
      " Epoch 9/50\n",
      "21/21 [==============================] - 124s 6s/step\n",
      "\n",
      " Epoch 10/50\n",
      "21/21 [==============================] - 142s 7s/step\n",
      "\n",
      " Epoch 11/50\n",
      "21/21 [==============================] - 133s 6s/step\n",
      "\n",
      " Epoch 12/50\n",
      "21/21 [==============================] - 137s 7s/step\n",
      "\n",
      " Epoch 13/50\n",
      "21/21 [==============================] - 129s 6s/step\n",
      "\n",
      " Epoch 14/50\n",
      "21/21 [==============================] - 129s 6s/step\n",
      "\n",
      " Epoch 15/50\n",
      "21/21 [==============================] - 126s 6s/step\n",
      "\n",
      " Epoch 16/50\n",
      "21/21 [==============================] - 127s 6s/step\n",
      "\n",
      " Epoch 17/50\n",
      "21/21 [==============================] - 127s 6s/step\n",
      "\n",
      " Epoch 18/50\n",
      "21/21 [==============================] - 124s 6s/step\n",
      "\n",
      " Epoch 19/50\n",
      "21/21 [==============================] - 125s 6s/step\n",
      "\n",
      " Epoch 20/50\n",
      "21/21 [==============================] - 127s 6s/step\n",
      "\n",
      " Epoch 21/50\n",
      "21/21 [==============================] - 128s 6s/step\n",
      "\n",
      " Epoch 22/50\n",
      "21/21 [==============================] - 128s 6s/step\n",
      "\n",
      " Epoch 23/50\n",
      "21/21 [==============================] - 126s 6s/step\n",
      "\n",
      " Epoch 24/50\n",
      "21/21 [==============================] - 127s 6s/step\n",
      "\n",
      " Epoch 25/50\n",
      "21/21 [==============================] - 128s 6s/step\n",
      "\n",
      " Epoch 26/50\n",
      "21/21 [==============================] - 126s 6s/step\n",
      "\n",
      " Epoch 27/50\n",
      "21/21 [==============================] - 131s 6s/step\n",
      "\n",
      " Epoch 28/50\n",
      "21/21 [==============================] - 131s 6s/step\n",
      "\n",
      " Epoch 29/50\n",
      "21/21 [==============================] - 131s 6s/step\n",
      "\n",
      " Epoch 30/50\n",
      "21/21 [==============================] - 132s 6s/step\n",
      "\n",
      " Epoch 31/50\n",
      "21/21 [==============================] - 131s 6s/step\n",
      "\n",
      " Epoch 32/50\n",
      "21/21 [==============================] - 133s 6s/step\n",
      "\n",
      " Epoch 33/50\n",
      "21/21 [==============================] - 131s 6s/step\n",
      "\n",
      " Epoch 34/50\n",
      "21/21 [==============================] - 126s 6s/step\n",
      "\n",
      " Epoch 35/50\n",
      "21/21 [==============================] - 131s 6s/step\n",
      "\n",
      " Epoch 36/50\n",
      "21/21 [==============================] - 134s 6s/step\n",
      "\n",
      " Epoch 37/50\n",
      "21/21 [==============================] - 137s 7s/step\n",
      "\n",
      " Epoch 38/50\n",
      "21/21 [==============================] - 141s 7s/step\n",
      "\n",
      " Epoch 39/50\n",
      "21/21 [==============================] - 147s 7s/step\n",
      "\n",
      " Epoch 40/50\n",
      "21/21 [==============================] - 128s 6s/step\n",
      "\n",
      " Epoch 41/50\n",
      "21/21 [==============================] - 127s 6s/step\n",
      "\n",
      " Epoch 42/50\n",
      "21/21 [==============================] - 128s 6s/step\n",
      "\n",
      " Epoch 43/50\n",
      "21/21 [==============================] - 127s 6s/step\n",
      "\n",
      " Epoch 44/50\n",
      "21/21 [==============================] - 127s 6s/step\n",
      "\n",
      " Epoch 45/50\n",
      "21/21 [==============================] - 128s 6s/step\n",
      "\n",
      " Epoch 46/50\n",
      "21/21 [==============================] - 127s 6s/step\n",
      "\n",
      " Epoch 47/50\n",
      "21/21 [==============================] - 127s 6s/step\n",
      "\n",
      " Epoch 48/50\n",
      "21/21 [==============================] - 127s 6s/step\n",
      "\n",
      " Epoch 49/50\n",
      "21/21 [==============================] - 127s 6s/step\n",
      "\n",
      " Epoch 50/50\n",
      "21/21 [==============================] - 126s 6s/step\n"
     ]
    }
   ],
   "source": [
    "train(train_data, EPOCHS)"
   ]
  },
  {
   "cell_type": "code",
   "execution_count": 75,
   "metadata": {
    "vscode": {
     "languageId": "python"
    }
   },
   "outputs": [],
   "source": [
    "from tensorflow.keras.metrics import Precision, Recall"
   ]
  },
  {
   "cell_type": "code",
   "execution_count": 76,
   "metadata": {
    "vscode": {
     "languageId": "python"
    }
   },
   "outputs": [],
   "source": [
    "test_input, test_val,y_true = test_data.as_numpy_iterator().next()"
   ]
  },
  {
   "cell_type": "code",
   "execution_count": 77,
   "metadata": {
    "vscode": {
     "languageId": "python"
    }
   },
   "outputs": [
    {
     "name": "stdout",
     "output_type": "stream",
     "text": [
      "1/1 [==============================] - 23s 23s/step\n"
     ]
    }
   ],
   "source": [
    "y_hat = siamese_model.predict([test_input, test_val])"
   ]
  },
  {
   "cell_type": "code",
   "execution_count": 78,
   "metadata": {
    "vscode": {
     "languageId": "python"
    }
   },
   "outputs": [
    {
     "data": {
      "text/plain": [
       "[1, 1, 0, 0, 0, 0, 1, 1, 1, 0, 1, 0, 0, 0, 0, 0, 0, 1]"
      ]
     },
     "execution_count": 78,
     "metadata": {},
     "output_type": "execute_result"
    }
   ],
   "source": [
    "[1 if prediction>0.5 else 0 for prediction in y_hat]"
   ]
  },
  {
   "cell_type": "code",
   "execution_count": 79,
   "metadata": {
    "vscode": {
     "languageId": "python"
    }
   },
   "outputs": [
    {
     "data": {
      "text/plain": [
       "0.54545456"
      ]
     },
     "execution_count": 79,
     "metadata": {},
     "output_type": "execute_result"
    }
   ],
   "source": [
    "m = Recall()\n",
    "m.update_state(y_true,y_hat)\n",
    "m.result().numpy()"
   ]
  },
  {
   "cell_type": "code",
   "execution_count": 80,
   "metadata": {
    "vscode": {
     "languageId": "python"
    }
   },
   "outputs": [
    {
     "data": {
      "text/plain": [
       "0.85714287"
      ]
     },
     "execution_count": 80,
     "metadata": {},
     "output_type": "execute_result"
    }
   ],
   "source": [
    "m = Precision()\n",
    "m.update_state(y_true,y_hat)\n",
    "m.result().numpy()"
   ]
  },
  {
   "cell_type": "code",
   "execution_count": 81,
   "metadata": {
    "vscode": {
     "languageId": "python"
    }
   },
   "outputs": [
    {
     "name": "stdout",
     "output_type": "stream",
     "text": [
      "0.46031746 0.70731705\n"
     ]
    }
   ],
   "source": [
    "r= Recall()\n",
    "p= Precision()\n",
    "\n",
    "\n",
    "for test_input, test_val, y_true in test_data.as_numpy_iterator():\n",
    "    yhat = siamese_model([test_input, test_val])\n",
    "    r.update_state(y_true, yhat)\n",
    "    p.update_state(y_true, yhat)\n",
    "\n",
    "    \n",
    "print(r.result().numpy(), p.result().numpy())"
   ]
  },
  {
   "cell_type": "code",
   "execution_count": 96,
   "metadata": {
    "vscode": {
     "languageId": "python"
    }
   },
   "outputs": [],
   "source": [
    "#siamese_model.save(\"siamesemodelv2.h5\")"
   ]
  },
  {
   "cell_type": "code",
   "execution_count": 56,
   "metadata": {
    "vscode": {
     "languageId": "python"
    }
   },
   "outputs": [],
   "source": [
    "siamese_model = tf.keras.models.load_model('siamesemodelv2.h5', \n",
    "                                   custom_objects={'L1Dist':L1Dist, 'BinaryCrossentropy':tf.losses.BinaryCrossentropy})"
   ]
  },
  {
   "cell_type": "code",
   "execution_count": 47,
   "metadata": {
    "vscode": {
     "languageId": "python"
    }
   },
   "outputs": [],
   "source": [
    "#siamese_model.compile(optimizer='adam', loss='mse')\n"
   ]
  },
  {
   "cell_type": "code",
   "execution_count": 82,
   "metadata": {
    "vscode": {
     "languageId": "python"
    }
   },
   "outputs": [
    {
     "name": "stdout",
     "output_type": "stream",
     "text": [
      "1/1 [==============================] - 6s 6s/step\n"
     ]
    },
    {
     "data": {
      "text/plain": [
       "array([[0.49992558],\n",
       "       [0.4978852 ],\n",
       "       [0.4995666 ],\n",
       "       [0.5000352 ],\n",
       "       [0.4992856 ],\n",
       "       [0.5000736 ],\n",
       "       [0.4992241 ],\n",
       "       [0.50007445],\n",
       "       [0.49998745],\n",
       "       [0.49973083],\n",
       "       [0.49962723],\n",
       "       [0.49831298],\n",
       "       [0.50030947]], dtype=float32)"
      ]
     },
     "execution_count": 82,
     "metadata": {},
     "output_type": "execute_result"
    }
   ],
   "source": [
    "siamese_model.predict([test_input, test_val])"
   ]
  },
  {
   "cell_type": "code",
   "execution_count": 83,
   "metadata": {
    "vscode": {
     "languageId": "python"
    }
   },
   "outputs": [
    {
     "name": "stdout",
     "output_type": "stream",
     "text": [
      "Model: \"SiameseNetwork\"\n",
      "__________________________________________________________________________________________________\n",
      " Layer (type)                   Output Shape         Param #     Connected to                     \n",
      "==================================================================================================\n",
      " input_img (InputLayer)         [(None, 100, 100, 3  0           []                               \n",
      "                                )]                                                                \n",
      "                                                                                                  \n",
      " validation_img (InputLayer)    [(None, 100, 100, 3  0           []                               \n",
      "                                )]                                                                \n",
      "                                                                                                  \n",
      " embedding (Functional)         (None, 4096)         38960448    ['input_img[0][0]',              \n",
      "                                                                  'validation_img[0][0]']         \n",
      "                                                                                                  \n",
      " distance (L1Dist)              (None, 4096)         0           ['embedding[0][0]',              \n",
      "                                                                  'embedding[1][0]']              \n",
      "                                                                                                  \n",
      " dense_3 (Dense)                (None, 1)            4097        ['distance[0][0]']               \n",
      "                                                                                                  \n",
      "==================================================================================================\n",
      "Total params: 38,964,545\n",
      "Trainable params: 38,964,545\n",
      "Non-trainable params: 0\n",
      "__________________________________________________________________________________________________\n"
     ]
    }
   ],
   "source": [
    "siamese_model.summary()\n"
   ]
  },
  {
   "cell_type": "code",
   "execution_count": 84,
   "metadata": {
    "vscode": {
     "languageId": "python"
    }
   },
   "outputs": [
    {
     "data": {
      "image/png": "[encoded data removed]",
      "text/plain": [
       "<Figure size 1000x800 with 1 Axes>"
      ]
     },
     "metadata": {},
     "output_type": "display_data"
    }
   ],
   "source": [
    "plt.figure(figsize=(10,8))\n",
    "\n",
    "plt.subplot(1,2,1)\n",
    "plt.imshow(test_input[0])\n",
    "\n",
    "plt.subplot(1,2,1)\n",
    "plt.imshow(test_val[0])\n",
    "\n",
    "plt.show()"
   ]
  },
  {
   "cell_type": "code",
   "execution_count": 101,
   "metadata": {
    "vscode": {
     "languageId": "python"
    }
   },
   "outputs": [
    {
     "ename": "NameError",
     "evalue": "name 'application_data' is not defined",
     "output_type": "error",
     "traceback": [
      "\u001b[1;31m---------------------------------------------------------------------------\u001b[0m",
      "\u001b[1;31mNameError\u001b[0m                                 Traceback (most recent call last)",
      "Cell \u001b[1;32mIn[101], line 1\u001b[0m\n\u001b[1;32m----> 1\u001b[0m application_data\u001b[39m/\u001b[39mverification_image\n",
      "\u001b[1;31mNameError\u001b[0m: name 'application_data' is not defined"
     ]
    }
   ],
   "source": [
    "application_data/verification_image\n"
   ]
  },
  {
   "cell_type": "code",
   "execution_count": 93,
   "metadata": {
    "vscode": {
     "languageId": "python"
    }
   },
   "outputs": [
    {
     "data": {
      "text/plain": [
       "'c:\\\\Users\\\\hp\\\\OneDrive\\\\Desktop\\\\face recognition'"
      ]
     },
     "execution_count": 93,
     "metadata": {},
     "output_type": "execute_result"
    }
   ],
   "source": [
    "pwd"
   ]
  },
  {
   "cell_type": "code",
   "execution_count": 103,
   "metadata": {
    "vscode": {
     "languageId": "python"
    }
   },
   "outputs": [
    {
     "data": {
      "text/plain": [
       "['00a12d3b-0def-11ee-a7ec-0c84dc49c6f0.jpg',\n",
       " '00a8508c-0def-11ee-87c0-0c84dc49c6f0.jpg',\n",
       " '00af9321-0def-11ee-a350-0c84dc49c6f0.jpg',\n",
       " '00d353a8-0def-11ee-b7f6-0c84dc49c6f0.jpg',\n",
       " '00daab9d-0def-11ee-bcf1-0c84dc49c6f0.jpg',\n",
       " '00e6b407-0def-11ee-ac23-0c84dc49c6f0.jpg',\n",
       " '00ee0754-0def-11ee-995c-0c84dc49c6f0.jpg',\n",
       " '00f52e3e-0def-11ee-8606-0c84dc49c6f0.jpg',\n",
       " '01b6ad39-0def-11ee-87f8-0c84dc49c6f0.jpg',\n",
       " '01bdd847-0def-11ee-8a22-0c84dc49c6f0.jpg',\n",
       " '01c4dd29-0def-11ee-be7c-0c84dc49c6f0.jpg',\n",
       " '01f6ff11-0def-11ee-a8f9-0c84dc49c6f0.jpg',\n",
       " '02a57d3d-0def-11ee-98d2-0c84dc49c6f0.jpg',\n",
       " '02accd5f-0def-11ee-8a56-0c84dc49c6f0.jpg',\n",
       " '9b0fd8f8-0dee-11ee-89a1-0c84dc49c6f0.jpg',\n",
       " '9b99fe66-0dee-11ee-b701-0c84dc49c6f0.jpg',\n",
       " '9bc5a0f7-0dee-11ee-b646-0c84dc49c6f0.jpg',\n",
       " '9bccf2b2-0dee-11ee-a2ca-0c84dc49c6f0.jpg',\n",
       " '9c1682ee-0dee-11ee-9823-0c84dc49c6f0.jpg',\n",
       " '9c22b417-0dee-11ee-94c3-0c84dc49c6f0.jpg',\n",
       " '9c29c944-0dee-11ee-9f91-0c84dc49c6f0.jpg',\n",
       " '9c30e83b-0dee-11ee-bdb3-0c84dc49c6f0.jpg',\n",
       " '9c5011ed-0dee-11ee-9063-0c84dc49c6f0.jpg',\n",
       " '9c573ca9-0dee-11ee-b1d2-0c84dc49c6f0.jpg',\n",
       " '9c7b38df-0dee-11ee-993b-0c84dc49c6f0.jpg',\n",
       " '9c8e6ece-0dee-11ee-8ea0-0c84dc49c6f0.jpg',\n",
       " '9c9599b4-0dee-11ee-9d72-0c84dc49c6f0.jpg',\n",
       " '9cd958ff-0dee-11ee-940f-0c84dc49c6f0.jpg',\n",
       " '9ce0a3c1-0dee-11ee-8d17-0c84dc49c6f0.jpg',\n",
       " '9ce7bb48-0dee-11ee-961c-0c84dc49c6f0.jpg',\n",
       " '9cf3ce71-0dee-11ee-b58b-0c84dc49c6f0.jpg',\n",
       " '9cfb1ff8-0dee-11ee-bffb-0c84dc49c6f0.jpg',\n",
       " '9d1ec7ea-0dee-11ee-838d-0c84dc49c6f0.jpg',\n",
       " '9d25e840-0dee-11ee-ae58-0c84dc49c6f0.jpg',\n",
       " '9d40596e-0dee-11ee-a515-0c84dc49c6f0.jpg',\n",
       " '9d584edd-0dee-11ee-ab64-0c84dc49c6f0.jpg',\n",
       " '9d5f8aba-0dee-11ee-b0b0-0c84dc49c6f0.jpg',\n",
       " '9d970fa6-0dee-11ee-8337-0c84dc49c6f0.jpg',\n",
       " '9d9e3a74-0dee-11ee-bbfb-0c84dc49c6f0.jpg',\n",
       " '9dd54b33-0dee-11ee-b661-0c84dc49c6f0.jpg',\n",
       " '9ddc7b74-0dee-11ee-9e63-0c84dc49c6f0.jpg',\n",
       " '9de3a11a-0dee-11ee-8bce-0c84dc49c6f0.jpg',\n",
       " '9e2d91f1-0dee-11ee-885c-0c84dc49c6f0.jpg',\n",
       " '9e34c902-0dee-11ee-8ae2-0c84dc49c6f0.jpg',\n",
       " '9e3bdff2-0dee-11ee-bed6-0c84dc49c6f0.jpg',\n",
       " '9e4ce78c-0dee-11ee-9366-0c84dc49c6f0.jpg',\n",
       " '9e54112f-0dee-11ee-8265-0c84dc49c6f0.jpg',\n",
       " '9e5b3c55-0dee-11ee-ad87-0c84dc49c6f0.jpg',\n",
       " '9e7f2085-0dee-11ee-9450-0c84dc49c6f0.jpg',\n",
       " '9e865451-0dee-11ee-bff1-0c84dc49c6f0.jpg',\n",
       " '9e9e35c0-0dee-11ee-beb7-0c84dc49c6f0.jpg',\n",
       " '9ea5409c-0dee-11ee-b521-0c84dc49c6f0.jpg',\n",
       " '9eac6ae5-0dee-11ee-9ccc-0c84dc49c6f0.jpg',\n",
       " 'a04c8db5-0dee-11ee-8789-0c84dc49c6f0.jpg',\n",
       " 'a0c98160-0dee-11ee-ae11-0c84dc49c6f0.jpg',\n",
       " 'a0dc75f8-0dee-11ee-88c0-0c84dc49c6f0.jpg',\n",
       " 'a1a43647-0dee-11ee-9adf-0c84dc49c6f0.jpg',\n",
       " 'a1ab7e84-0dee-11ee-808a-0c84dc49c6f0.jpg',\n",
       " 'a1b277c9-0dee-11ee-91d2-0c84dc49c6f0.jpg',\n",
       " 'a1b73159-0dee-11ee-8c7f-0c84dc49c6f0.jpg',\n",
       " 'a1f6070d-0dee-11ee-a7cb-0c84dc49c6f0.jpg',\n",
       " 'a1fd24a3-0dee-11ee-b57c-0c84dc49c6f0.jpg',\n",
       " 'a2c1a5a4-0dee-11ee-89f8-0c84dc49c6f0.jpg',\n",
       " 'a2ed1027-0dee-11ee-abad-0c84dc49c6f0.jpg',\n",
       " 'a2f461f4-0dee-11ee-912b-0c84dc49c6f0.jpg',\n",
       " 'a3a3078f-0dee-11ee-ac4e-0c84dc49c6f0.jpg',\n",
       " 'a3aa3c84-0dee-11ee-a3f2-0c84dc49c6f0.jpg',\n",
       " 'a3dc3c2b-0dee-11ee-acd3-0c84dc49c6f0.jpg',\n",
       " 'a4a59afb-0dee-11ee-86e4-0c84dc49c6f0.jpg',\n",
       " 'a4d02b3a-0dee-11ee-9132-0c84dc49c6f0.jpg',\n",
       " 'a4de503b-0dee-11ee-9762-0c84dc49c6f0.jpg',\n",
       " 'a4f184c8-0dee-11ee-9378-0c84dc49c6f0.jpg',\n",
       " 'a4fd8ce5-0dee-11ee-9013-0c84dc49c6f0.jpg',\n",
       " 'a5f1cb09-0dee-11ee-8e5f-0c84dc49c6f0.jpg',\n",
       " 'a5f8b3d7-0dee-11ee-a6c9-0c84dc49c6f0.jpg',\n",
       " 'a6a32e96-0dee-11ee-881a-0c84dc49c6f0.jpg',\n",
       " 'a6c77276-0dee-11ee-be9b-0c84dc49c6f0.jpg',\n",
       " 'a6cec7e6-0dee-11ee-8788-0c84dc49c6f0.jpg',\n",
       " 'a6d5f22c-0dee-11ee-8e2b-0c84dc49c6f0.jpg',\n",
       " 'a6f9a76c-0dee-11ee-b275-0c84dc49c6f0.jpg',\n",
       " 'a7e8c3b9-0dee-11ee-afd4-0c84dc49c6f0.jpg',\n",
       " 'a7eff6b6-0dee-11ee-8ff4-0c84dc49c6f0.jpg',\n",
       " 'a7f74f31-0dee-11ee-8c45-0c84dc49c6f0.jpg',\n",
       " 'a8ad72bf-0dee-11ee-9eb4-0c84dc49c6f0.jpg',\n",
       " 'a9b5725f-0dee-11ee-af16-0c84dc49c6f0.jpg',\n",
       " 'a9c8a505-0dee-11ee-a802-0c84dc49c6f0.jpg']"
      ]
     },
     "execution_count": 103,
     "metadata": {},
     "output_type": "execute_result"
    }
   ],
   "source": [
    "os.listdir(os.path.join('application_data', 'verification_images'))"
   ]
  },
  {
   "cell_type": "code",
   "execution_count": 104,
   "metadata": {
    "vscode": {
     "languageId": "python"
    }
   },
   "outputs": [
    {
     "data": {
      "text/plain": [
       "'application_data\\\\input_image\\\\input_image.jpg'"
      ]
     },
     "execution_count": 104,
     "metadata": {},
     "output_type": "execute_result"
    }
   ],
   "source": [
    "os.path.join('application_data', 'input_image', 'input_image.jpg')"
   ]
  },
  {
   "cell_type": "code",
   "execution_count": 105,
   "metadata": {
    "vscode": {
     "languageId": "python"
    }
   },
   "outputs": [
    {
     "name": "stdout",
     "output_type": "stream",
     "text": [
      "application_data\\verification_images\\00a12d3b-0def-11ee-a7ec-0c84dc49c6f0.jpg\n",
      "application_data\\verification_images\\00a8508c-0def-11ee-87c0-0c84dc49c6f0.jpg\n",
      "application_data\\verification_images\\00af9321-0def-11ee-a350-0c84dc49c6f0.jpg\n",
      "application_data\\verification_images\\00d353a8-0def-11ee-b7f6-0c84dc49c6f0.jpg\n",
      "application_data\\verification_images\\00daab9d-0def-11ee-bcf1-0c84dc49c6f0.jpg\n",
      "application_data\\verification_images\\00e6b407-0def-11ee-ac23-0c84dc49c6f0.jpg\n",
      "application_data\\verification_images\\00ee0754-0def-11ee-995c-0c84dc49c6f0.jpg\n",
      "application_data\\verification_images\\00f52e3e-0def-11ee-8606-0c84dc49c6f0.jpg\n",
      "application_data\\verification_images\\01b6ad39-0def-11ee-87f8-0c84dc49c6f0.jpg\n",
      "application_data\\verification_images\\01bdd847-0def-11ee-8a22-0c84dc49c6f0.jpg\n",
      "application_data\\verification_images\\01c4dd29-0def-11ee-be7c-0c84dc49c6f0.jpg\n",
      "application_data\\verification_images\\01f6ff11-0def-11ee-a8f9-0c84dc49c6f0.jpg\n",
      "application_data\\verification_images\\02a57d3d-0def-11ee-98d2-0c84dc49c6f0.jpg\n",
      "application_data\\verification_images\\02accd5f-0def-11ee-8a56-0c84dc49c6f0.jpg\n",
      "application_data\\verification_images\\9b0fd8f8-0dee-11ee-89a1-0c84dc49c6f0.jpg\n",
      "application_data\\verification_images\\9b99fe66-0dee-11ee-b701-0c84dc49c6f0.jpg\n",
      "application_data\\verification_images\\9bc5a0f7-0dee-11ee-b646-0c84dc49c6f0.jpg\n",
      "application_data\\verification_images\\9bccf2b2-0dee-11ee-a2ca-0c84dc49c6f0.jpg\n",
      "application_data\\verification_images\\9c1682ee-0dee-11ee-9823-0c84dc49c6f0.jpg\n",
      "application_data\\verification_images\\9c22b417-0dee-11ee-94c3-0c84dc49c6f0.jpg\n",
      "application_data\\verification_images\\9c29c944-0dee-11ee-9f91-0c84dc49c6f0.jpg\n",
      "application_data\\verification_images\\9c30e83b-0dee-11ee-bdb3-0c84dc49c6f0.jpg\n",
      "application_data\\verification_images\\9c5011ed-0dee-11ee-9063-0c84dc49c6f0.jpg\n",
      "application_data\\verification_images\\9c573ca9-0dee-11ee-b1d2-0c84dc49c6f0.jpg\n",
      "application_data\\verification_images\\9c7b38df-0dee-11ee-993b-0c84dc49c6f0.jpg\n",
      "application_data\\verification_images\\9c8e6ece-0dee-11ee-8ea0-0c84dc49c6f0.jpg\n",
      "application_data\\verification_images\\9c9599b4-0dee-11ee-9d72-0c84dc49c6f0.jpg\n",
      "application_data\\verification_images\\9cd958ff-0dee-11ee-940f-0c84dc49c6f0.jpg\n",
      "application_data\\verification_images\\9ce0a3c1-0dee-11ee-8d17-0c84dc49c6f0.jpg\n",
      "application_data\\verification_images\\9ce7bb48-0dee-11ee-961c-0c84dc49c6f0.jpg\n",
      "application_data\\verification_images\\9cf3ce71-0dee-11ee-b58b-0c84dc49c6f0.jpg\n",
      "application_data\\verification_images\\9cfb1ff8-0dee-11ee-bffb-0c84dc49c6f0.jpg\n",
      "application_data\\verification_images\\9d1ec7ea-0dee-11ee-838d-0c84dc49c6f0.jpg\n",
      "application_data\\verification_images\\9d25e840-0dee-11ee-ae58-0c84dc49c6f0.jpg\n",
      "application_data\\verification_images\\9d40596e-0dee-11ee-a515-0c84dc49c6f0.jpg\n",
      "application_data\\verification_images\\9d584edd-0dee-11ee-ab64-0c84dc49c6f0.jpg\n",
      "application_data\\verification_images\\9d5f8aba-0dee-11ee-b0b0-0c84dc49c6f0.jpg\n",
      "application_data\\verification_images\\9d970fa6-0dee-11ee-8337-0c84dc49c6f0.jpg\n",
      "application_data\\verification_images\\9d9e3a74-0dee-11ee-bbfb-0c84dc49c6f0.jpg\n",
      "application_data\\verification_images\\9dd54b33-0dee-11ee-b661-0c84dc49c6f0.jpg\n",
      "application_data\\verification_images\\9ddc7b74-0dee-11ee-9e63-0c84dc49c6f0.jpg\n",
      "application_data\\verification_images\\9de3a11a-0dee-11ee-8bce-0c84dc49c6f0.jpg\n",
      "application_data\\verification_images\\9e2d91f1-0dee-11ee-885c-0c84dc49c6f0.jpg\n",
      "application_data\\verification_images\\9e34c902-0dee-11ee-8ae2-0c84dc49c6f0.jpg\n",
      "application_data\\verification_images\\9e3bdff2-0dee-11ee-bed6-0c84dc49c6f0.jpg\n",
      "application_data\\verification_images\\9e4ce78c-0dee-11ee-9366-0c84dc49c6f0.jpg\n",
      "application_data\\verification_images\\9e54112f-0dee-11ee-8265-0c84dc49c6f0.jpg\n",
      "application_data\\verification_images\\9e5b3c55-0dee-11ee-ad87-0c84dc49c6f0.jpg\n",
      "application_data\\verification_images\\9e7f2085-0dee-11ee-9450-0c84dc49c6f0.jpg\n",
      "application_data\\verification_images\\9e865451-0dee-11ee-bff1-0c84dc49c6f0.jpg\n",
      "application_data\\verification_images\\9e9e35c0-0dee-11ee-beb7-0c84dc49c6f0.jpg\n",
      "application_data\\verification_images\\9ea5409c-0dee-11ee-b521-0c84dc49c6f0.jpg\n",
      "application_data\\verification_images\\9eac6ae5-0dee-11ee-9ccc-0c84dc49c6f0.jpg\n",
      "application_data\\verification_images\\a04c8db5-0dee-11ee-8789-0c84dc49c6f0.jpg\n",
      "application_data\\verification_images\\a0c98160-0dee-11ee-ae11-0c84dc49c6f0.jpg\n",
      "application_data\\verification_images\\a0dc75f8-0dee-11ee-88c0-0c84dc49c6f0.jpg\n",
      "application_data\\verification_images\\a1a43647-0dee-11ee-9adf-0c84dc49c6f0.jpg\n",
      "application_data\\verification_images\\a1ab7e84-0dee-11ee-808a-0c84dc49c6f0.jpg\n",
      "application_data\\verification_images\\a1b277c9-0dee-11ee-91d2-0c84dc49c6f0.jpg\n",
      "application_data\\verification_images\\a1b73159-0dee-11ee-8c7f-0c84dc49c6f0.jpg\n",
      "application_data\\verification_images\\a1f6070d-0dee-11ee-a7cb-0c84dc49c6f0.jpg\n",
      "application_data\\verification_images\\a1fd24a3-0dee-11ee-b57c-0c84dc49c6f0.jpg\n",
      "application_data\\verification_images\\a2c1a5a4-0dee-11ee-89f8-0c84dc49c6f0.jpg\n",
      "application_data\\verification_images\\a2ed1027-0dee-11ee-abad-0c84dc49c6f0.jpg\n",
      "application_data\\verification_images\\a2f461f4-0dee-11ee-912b-0c84dc49c6f0.jpg\n",
      "application_data\\verification_images\\a3a3078f-0dee-11ee-ac4e-0c84dc49c6f0.jpg\n",
      "application_data\\verification_images\\a3aa3c84-0dee-11ee-a3f2-0c84dc49c6f0.jpg\n",
      "application_data\\verification_images\\a3dc3c2b-0dee-11ee-acd3-0c84dc49c6f0.jpg\n",
      "application_data\\verification_images\\a4a59afb-0dee-11ee-86e4-0c84dc49c6f0.jpg\n",
      "application_data\\verification_images\\a4d02b3a-0dee-11ee-9132-0c84dc49c6f0.jpg\n",
      "application_data\\verification_images\\a4de503b-0dee-11ee-9762-0c84dc49c6f0.jpg\n",
      "application_data\\verification_images\\a4f184c8-0dee-11ee-9378-0c84dc49c6f0.jpg\n",
      "application_data\\verification_images\\a4fd8ce5-0dee-11ee-9013-0c84dc49c6f0.jpg\n",
      "application_data\\verification_images\\a5f1cb09-0dee-11ee-8e5f-0c84dc49c6f0.jpg\n",
      "application_data\\verification_images\\a5f8b3d7-0dee-11ee-a6c9-0c84dc49c6f0.jpg\n",
      "application_data\\verification_images\\a6a32e96-0dee-11ee-881a-0c84dc49c6f0.jpg\n",
      "application_data\\verification_images\\a6c77276-0dee-11ee-be9b-0c84dc49c6f0.jpg\n",
      "application_data\\verification_images\\a6cec7e6-0dee-11ee-8788-0c84dc49c6f0.jpg\n",
      "application_data\\verification_images\\a6d5f22c-0dee-11ee-8e2b-0c84dc49c6f0.jpg\n",
      "application_data\\verification_images\\a6f9a76c-0dee-11ee-b275-0c84dc49c6f0.jpg\n",
      "application_data\\verification_images\\a7e8c3b9-0dee-11ee-afd4-0c84dc49c6f0.jpg\n",
      "application_data\\verification_images\\a7eff6b6-0dee-11ee-8ff4-0c84dc49c6f0.jpg\n",
      "application_data\\verification_images\\a7f74f31-0dee-11ee-8c45-0c84dc49c6f0.jpg\n",
      "application_data\\verification_images\\a8ad72bf-0dee-11ee-9eb4-0c84dc49c6f0.jpg\n",
      "application_data\\verification_images\\a9b5725f-0dee-11ee-af16-0c84dc49c6f0.jpg\n",
      "application_data\\verification_images\\a9c8a505-0dee-11ee-a802-0c84dc49c6f0.jpg\n"
     ]
    }
   ],
   "source": [
    "for image in os.listdir(os.path.join('application_data', 'verification_images')):\n",
    "    validation_img = os.path.join('application_data', 'verification_images', image)\n",
    "    print(validation_img)"
   ]
  },
  {
   "cell_type": "code",
   "execution_count": 113,
   "metadata": {
    "vscode": {
     "languageId": "python"
    }
   },
   "outputs": [],
   "source": [
    "def verify(model, detection_threshold, verification_threshold):\n",
    "    # Build results array\n",
    "    results = []\n",
    "    for image in os.listdir(os.path.join('application_data', 'verification_images')):\n",
    "        input_img = preprocess(os.path.join('application_data', 'input_image', 'input_image.jpg'))\n",
    "        validation_img = preprocess(os.path.join('application_data', 'verification_images', image))\n",
    "        \n",
    "        # Make Predictions \n",
    "        result = model.predict(list(np.expand_dims([input_img, validation_img], axis=1)))\n",
    "        results.append(result)\n",
    "    \n",
    "    # Detection Threshold: Metric above which a prediciton is considered positive \n",
    "    detection = np.sum(np.array(results) > detection_threshold)\n",
    "    \n",
    "    # Verification Threshold: Proportion of positive predictions / total positive samples \n",
    "    verification = detection / len(os.listdir(os.path.join('application_data', 'verification_images'))) \n",
    "    verified = verification > verification_threshold\n",
    "    \n",
    "    return results, verified"
   ]
  },
  {
   "cell_type": "code",
   "execution_count": 117,
   "metadata": {
    "vscode": {
     "languageId": "python"
    }
   },
   "outputs": [
    {
     "name": "stdout",
     "output_type": "stream",
     "text": [
      "1/1 [==============================] - 0s 367ms/step\n",
      "1/1 [==============================] - 0s 394ms/step\n",
      "1/1 [==============================] - 0s 441ms/step\n",
      "1/1 [==============================] - 0s 417ms/step\n",
      "1/1 [==============================] - 0s 446ms/step\n",
      "1/1 [==============================] - 1s 545ms/step\n",
      "1/1 [==============================] - 0s 456ms/step\n",
      "1/1 [==============================] - 0s 448ms/step\n",
      "1/1 [==============================] - 0s 429ms/step\n",
      "1/1 [==============================] - 0s 431ms/step\n",
      "1/1 [==============================] - 0s 434ms/step\n",
      "1/1 [==============================] - 1s 670ms/step\n",
      "1/1 [==============================] - 0s 474ms/step\n",
      "1/1 [==============================] - 1s 562ms/step\n",
      "1/1 [==============================] - 1s 523ms/step\n",
      "1/1 [==============================] - 0s 434ms/step\n",
      "1/1 [==============================] - 0s 408ms/step\n",
      "1/1 [==============================] - 0s 425ms/step\n",
      "1/1 [==============================] - 0s 435ms/step\n",
      "1/1 [==============================] - 0s 417ms/step\n",
      "1/1 [==============================] - 0s 394ms/step\n",
      "1/1 [==============================] - 0s 391ms/step\n",
      "1/1 [==============================] - 0s 387ms/step\n",
      "1/1 [==============================] - 0s 412ms/step\n",
      "1/1 [==============================] - 0s 415ms/step\n",
      "1/1 [==============================] - 0s 397ms/step\n",
      "1/1 [==============================] - 0s 399ms/step\n",
      "1/1 [==============================] - 0s 400ms/step\n",
      "1/1 [==============================] - 0s 393ms/step\n",
      "1/1 [==============================] - 0s 397ms/step\n",
      "1/1 [==============================] - 0s 392ms/step\n",
      "1/1 [==============================] - 0s 405ms/step\n",
      "1/1 [==============================] - 0s 417ms/step\n",
      "1/1 [==============================] - 0s 408ms/step\n",
      "1/1 [==============================] - 0s 400ms/step\n",
      "1/1 [==============================] - 0s 399ms/step\n",
      "1/1 [==============================] - 0s 375ms/step\n",
      "1/1 [==============================] - 0s 377ms/step\n",
      "1/1 [==============================] - 0s 397ms/step\n",
      "1/1 [==============================] - 0s 361ms/step\n",
      "1/1 [==============================] - 0s 374ms/step\n",
      "1/1 [==============================] - 0s 370ms/step\n",
      "1/1 [==============================] - 0s 370ms/step\n",
      "1/1 [==============================] - 0s 378ms/step\n",
      "1/1 [==============================] - 0s 351ms/step\n",
      "1/1 [==============================] - 0s 354ms/step\n",
      "1/1 [==============================] - 0s 373ms/step\n",
      "1/1 [==============================] - 0s 364ms/step\n",
      "1/1 [==============================] - 0s 344ms/step\n",
      "1/1 [==============================] - 0s 371ms/step\n",
      "1/1 [==============================] - 0s 351ms/step\n",
      "1/1 [==============================] - 0s 385ms/step\n",
      "1/1 [==============================] - 0s 382ms/step\n",
      "1/1 [==============================] - 0s 392ms/step\n",
      "1/1 [==============================] - 0s 387ms/step\n",
      "1/1 [==============================] - 0s 418ms/step\n",
      "1/1 [==============================] - 0s 412ms/step\n",
      "1/1 [==============================] - 0s 398ms/step\n",
      "1/1 [==============================] - 0s 388ms/step\n",
      "1/1 [==============================] - 0s 392ms/step\n",
      "1/1 [==============================] - 0s 441ms/step\n",
      "1/1 [==============================] - 0s 390ms/step\n",
      "1/1 [==============================] - 0s 397ms/step\n",
      "1/1 [==============================] - 0s 380ms/step\n",
      "1/1 [==============================] - 0s 407ms/step\n",
      "1/1 [==============================] - 0s 415ms/step\n",
      "1/1 [==============================] - 0s 408ms/step\n",
      "1/1 [==============================] - 0s 396ms/step\n",
      "1/1 [==============================] - 0s 386ms/step\n",
      "1/1 [==============================] - 0s 389ms/step\n",
      "1/1 [==============================] - 0s 387ms/step\n",
      "1/1 [==============================] - 0s 376ms/step\n",
      "1/1 [==============================] - 0s 387ms/step\n",
      "1/1 [==============================] - 0s 409ms/step\n",
      "1/1 [==============================] - 0s 414ms/step\n",
      "1/1 [==============================] - 0s 414ms/step\n",
      "1/1 [==============================] - 0s 387ms/step\n",
      "1/1 [==============================] - 0s 377ms/step\n",
      "1/1 [==============================] - 0s 381ms/step\n",
      "1/1 [==============================] - 0s 423ms/step\n",
      "1/1 [==============================] - 0s 423ms/step\n",
      "1/1 [==============================] - 0s 408ms/step\n",
      "1/1 [==============================] - 0s 396ms/step\n",
      "1/1 [==============================] - 0s 390ms/step\n",
      "1/1 [==============================] - 0s 392ms/step\n",
      "1/1 [==============================] - 0s 393ms/step\n",
      "False\n",
      "1/1 [==============================] - 0s 359ms/step\n",
      "1/1 [==============================] - 0s 379ms/step\n",
      "1/1 [==============================] - 0s 390ms/step\n",
      "1/1 [==============================] - 0s 405ms/step\n",
      "1/1 [==============================] - 0s 454ms/step\n",
      "1/1 [==============================] - 0s 421ms/step\n",
      "1/1 [==============================] - 0s 435ms/step\n",
      "1/1 [==============================] - 0s 413ms/step\n",
      "1/1 [==============================] - 0s 467ms/step\n",
      "1/1 [==============================] - 1s 583ms/step\n",
      "1/1 [==============================] - 0s 378ms/step\n",
      "1/1 [==============================] - 0s 434ms/step\n",
      "1/1 [==============================] - 0s 393ms/step\n",
      "1/1 [==============================] - 0s 384ms/step\n",
      "1/1 [==============================] - 0s 398ms/step\n",
      "1/1 [==============================] - 0s 401ms/step\n",
      "1/1 [==============================] - 1s 511ms/step\n",
      "1/1 [==============================] - 0s 427ms/step\n",
      "1/1 [==============================] - 0s 421ms/step\n",
      "1/1 [==============================] - 0s 477ms/step\n",
      "1/1 [==============================] - 0s 479ms/step\n",
      "1/1 [==============================] - 0s 425ms/step\n",
      "1/1 [==============================] - 0s 393ms/step\n",
      "1/1 [==============================] - 0s 387ms/step\n",
      "1/1 [==============================] - 0s 396ms/step\n",
      "1/1 [==============================] - 0s 371ms/step\n",
      "1/1 [==============================] - 0s 382ms/step\n",
      "1/1 [==============================] - 0s 408ms/step\n",
      "1/1 [==============================] - 0s 393ms/step\n",
      "1/1 [==============================] - 0s 404ms/step\n",
      "1/1 [==============================] - 0s 440ms/step\n",
      "1/1 [==============================] - 0s 436ms/step\n",
      "1/1 [==============================] - 0s 376ms/step\n",
      "1/1 [==============================] - 0s 377ms/step\n",
      "1/1 [==============================] - 0s 401ms/step\n",
      "1/1 [==============================] - 0s 377ms/step\n",
      "1/1 [==============================] - 0s 389ms/step\n",
      "1/1 [==============================] - 0s 383ms/step\n",
      "1/1 [==============================] - 0s 373ms/step\n",
      "1/1 [==============================] - 0s 381ms/step\n",
      "1/1 [==============================] - 0s 385ms/step\n",
      "1/1 [==============================] - 0s 377ms/step\n",
      "1/1 [==============================] - 0s 373ms/step\n",
      "1/1 [==============================] - 0s 376ms/step\n",
      "1/1 [==============================] - 0s 385ms/step\n",
      "1/1 [==============================] - 0s 402ms/step\n",
      "1/1 [==============================] - 0s 396ms/step\n",
      "1/1 [==============================] - 0s 381ms/step\n",
      "1/1 [==============================] - 0s 403ms/step\n",
      "1/1 [==============================] - 0s 377ms/step\n",
      "1/1 [==============================] - 0s 381ms/step\n",
      "1/1 [==============================] - 0s 408ms/step\n",
      "1/1 [==============================] - 0s 388ms/step\n",
      "1/1 [==============================] - 0s 374ms/step\n",
      "1/1 [==============================] - 0s 393ms/step\n",
      "1/1 [==============================] - 0s 392ms/step\n",
      "1/1 [==============================] - 0s 405ms/step\n",
      "1/1 [==============================] - 0s 373ms/step\n",
      "1/1 [==============================] - 0s 379ms/step\n",
      "1/1 [==============================] - 0s 386ms/step\n",
      "1/1 [==============================] - 0s 397ms/step\n",
      "1/1 [==============================] - 0s 378ms/step\n",
      "1/1 [==============================] - 0s 376ms/step\n",
      "1/1 [==============================] - 0s 448ms/step\n",
      "1/1 [==============================] - 0s 390ms/step\n",
      "1/1 [==============================] - 0s 382ms/step\n",
      "1/1 [==============================] - 0s 394ms/step\n",
      "1/1 [==============================] - 0s 379ms/step\n",
      "1/1 [==============================] - 0s 382ms/step\n",
      "1/1 [==============================] - 0s 373ms/step\n",
      "1/1 [==============================] - 0s 371ms/step\n",
      "1/1 [==============================] - 0s 381ms/step\n",
      "1/1 [==============================] - 0s 436ms/step\n",
      "1/1 [==============================] - 0s 379ms/step\n",
      "1/1 [==============================] - 0s 382ms/step\n",
      "1/1 [==============================] - 0s 374ms/step\n",
      "1/1 [==============================] - 0s 390ms/step\n",
      "1/1 [==============================] - 0s 398ms/step\n",
      "1/1 [==============================] - 0s 377ms/step\n",
      "1/1 [==============================] - 0s 382ms/step\n",
      "1/1 [==============================] - 0s 395ms/step\n",
      "1/1 [==============================] - 0s 374ms/step\n",
      "1/1 [==============================] - 0s 373ms/step\n",
      "1/1 [==============================] - 0s 374ms/step\n",
      "1/1 [==============================] - 0s 378ms/step\n",
      "1/1 [==============================] - 0s 381ms/step\n",
      "True\n",
      "1/1 [==============================] - 0s 348ms/step\n",
      "1/1 [==============================] - 0s 379ms/step\n",
      "1/1 [==============================] - 0s 378ms/step\n",
      "1/1 [==============================] - 0s 369ms/step\n",
      "1/1 [==============================] - 0s 366ms/step\n",
      "1/1 [==============================] - 0s 406ms/step\n",
      "1/1 [==============================] - 0s 448ms/step\n",
      "1/1 [==============================] - 0s 367ms/step\n",
      "1/1 [==============================] - 0s 390ms/step\n",
      "1/1 [==============================] - 0s 360ms/step\n",
      "1/1 [==============================] - 0s 373ms/step\n",
      "1/1 [==============================] - 0s 373ms/step\n",
      "1/1 [==============================] - 0s 386ms/step\n",
      "1/1 [==============================] - 0s 375ms/step\n",
      "1/1 [==============================] - 0s 380ms/step\n",
      "1/1 [==============================] - 0s 371ms/step\n",
      "1/1 [==============================] - 0s 383ms/step\n",
      "1/1 [==============================] - 0s 386ms/step\n",
      "1/1 [==============================] - 0s 377ms/step\n",
      "1/1 [==============================] - 0s 384ms/step\n",
      "1/1 [==============================] - 0s 373ms/step\n",
      "1/1 [==============================] - 0s 370ms/step\n",
      "1/1 [==============================] - 0s 375ms/step\n",
      "1/1 [==============================] - 0s 388ms/step\n",
      "1/1 [==============================] - 0s 398ms/step\n",
      "1/1 [==============================] - 1s 559ms/step\n",
      "1/1 [==============================] - 0s 374ms/step\n",
      "1/1 [==============================] - 0s 386ms/step\n",
      "1/1 [==============================] - 0s 368ms/step\n",
      "1/1 [==============================] - 0s 380ms/step\n",
      "1/1 [==============================] - 0s 400ms/step\n",
      "1/1 [==============================] - 0s 386ms/step\n",
      "1/1 [==============================] - 0s 363ms/step\n",
      "1/1 [==============================] - 0s 370ms/step\n",
      "1/1 [==============================] - 0s 393ms/step\n",
      "1/1 [==============================] - 0s 369ms/step\n",
      "1/1 [==============================] - 0s 367ms/step\n",
      "1/1 [==============================] - 0s 370ms/step\n",
      "1/1 [==============================] - 0s 373ms/step\n",
      "1/1 [==============================] - 0s 487ms/step\n",
      "1/1 [==============================] - 0s 379ms/step\n",
      "1/1 [==============================] - 0s 358ms/step\n",
      "1/1 [==============================] - 0s 370ms/step\n",
      "1/1 [==============================] - 0s 377ms/step\n",
      "1/1 [==============================] - 0s 398ms/step\n",
      "1/1 [==============================] - 0s 375ms/step\n",
      "1/1 [==============================] - 0s 380ms/step\n",
      "1/1 [==============================] - 0s 376ms/step\n",
      "1/1 [==============================] - 0s 368ms/step\n",
      "1/1 [==============================] - 0s 379ms/step\n",
      "1/1 [==============================] - 0s 372ms/step\n",
      "1/1 [==============================] - 0s 393ms/step\n",
      "1/1 [==============================] - 0s 428ms/step\n",
      "1/1 [==============================] - 0s 378ms/step\n",
      "1/1 [==============================] - 0s 373ms/step\n",
      "1/1 [==============================] - 0s 368ms/step\n",
      "1/1 [==============================] - 0s 370ms/step\n",
      "1/1 [==============================] - 0s 382ms/step\n",
      "1/1 [==============================] - 0s 372ms/step\n",
      "1/1 [==============================] - 0s 408ms/step\n",
      "1/1 [==============================] - 0s 365ms/step\n",
      "1/1 [==============================] - 0s 386ms/step\n",
      "1/1 [==============================] - 0s 368ms/step\n",
      "1/1 [==============================] - 0s 373ms/step\n",
      "1/1 [==============================] - 0s 372ms/step\n",
      "1/1 [==============================] - 0s 381ms/step\n",
      "1/1 [==============================] - 0s 373ms/step\n",
      "1/1 [==============================] - 0s 362ms/step\n",
      "1/1 [==============================] - 0s 397ms/step\n",
      "1/1 [==============================] - 0s 393ms/step\n",
      "1/1 [==============================] - 0s 370ms/step\n",
      "1/1 [==============================] - 0s 382ms/step\n",
      "1/1 [==============================] - 0s 372ms/step\n",
      "1/1 [==============================] - 0s 379ms/step\n",
      "1/1 [==============================] - 0s 474ms/step\n",
      "1/1 [==============================] - 0s 458ms/step\n",
      "1/1 [==============================] - 0s 384ms/step\n",
      "1/1 [==============================] - 1s 520ms/step\n",
      "1/1 [==============================] - 1s 563ms/step\n",
      "1/1 [==============================] - 1s 575ms/step\n",
      "1/1 [==============================] - 1s 609ms/step\n",
      "1/1 [==============================] - 0s 485ms/step\n",
      "1/1 [==============================] - 0s 417ms/step\n",
      "1/1 [==============================] - 1s 656ms/step\n",
      "1/1 [==============================] - 0s 472ms/step\n",
      "1/1 [==============================] - 0s 446ms/step\n",
      "False\n",
      "1/1 [==============================] - 0s 374ms/step\n",
      "1/1 [==============================] - 0s 388ms/step\n",
      "1/1 [==============================] - 0s 373ms/step\n",
      "1/1 [==============================] - 0s 377ms/step\n",
      "1/1 [==============================] - 0s 396ms/step\n",
      "1/1 [==============================] - 0s 397ms/step\n",
      "1/1 [==============================] - 0s 413ms/step\n",
      "1/1 [==============================] - 0s 379ms/step\n",
      "1/1 [==============================] - 0s 404ms/step\n",
      "1/1 [==============================] - 0s 392ms/step\n",
      "1/1 [==============================] - 0s 386ms/step\n",
      "1/1 [==============================] - 0s 368ms/step\n",
      "1/1 [==============================] - 0s 377ms/step\n",
      "1/1 [==============================] - 0s 367ms/step\n",
      "1/1 [==============================] - 0s 396ms/step\n",
      "1/1 [==============================] - 0s 380ms/step\n",
      "1/1 [==============================] - 0s 389ms/step\n",
      "1/1 [==============================] - 0s 385ms/step\n",
      "1/1 [==============================] - 0s 378ms/step\n",
      "1/1 [==============================] - 0s 373ms/step\n",
      "1/1 [==============================] - 0s 372ms/step\n",
      "1/1 [==============================] - 0s 389ms/step\n",
      "1/1 [==============================] - 0s 373ms/step\n",
      "1/1 [==============================] - 0s 380ms/step\n",
      "1/1 [==============================] - 0s 376ms/step\n",
      "1/1 [==============================] - 0s 394ms/step\n",
      "1/1 [==============================] - 0s 375ms/step\n",
      "1/1 [==============================] - 0s 378ms/step\n",
      "1/1 [==============================] - 0s 405ms/step\n",
      "1/1 [==============================] - 0s 380ms/step\n",
      "1/1 [==============================] - 0s 374ms/step\n",
      "1/1 [==============================] - 0s 378ms/step\n",
      "1/1 [==============================] - 0s 369ms/step\n",
      "1/1 [==============================] - 0s 414ms/step\n",
      "1/1 [==============================] - 0s 392ms/step\n",
      "1/1 [==============================] - 0s 384ms/step\n",
      "1/1 [==============================] - 0s 376ms/step\n",
      "1/1 [==============================] - 0s 380ms/step\n",
      "1/1 [==============================] - 0s 384ms/step\n",
      "1/1 [==============================] - 0s 371ms/step\n",
      "1/1 [==============================] - 0s 371ms/step\n",
      "1/1 [==============================] - 0s 375ms/step\n",
      "1/1 [==============================] - 0s 375ms/step\n",
      "1/1 [==============================] - 0s 377ms/step\n",
      "1/1 [==============================] - 0s 379ms/step\n",
      "1/1 [==============================] - 0s 394ms/step\n",
      "1/1 [==============================] - 0s 373ms/step\n",
      "1/1 [==============================] - 0s 374ms/step\n",
      "1/1 [==============================] - 0s 379ms/step\n",
      "1/1 [==============================] - 0s 368ms/step\n",
      "1/1 [==============================] - 0s 383ms/step\n",
      "1/1 [==============================] - 0s 440ms/step\n",
      "1/1 [==============================] - 0s 382ms/step\n",
      "1/1 [==============================] - 0s 386ms/step\n",
      "1/1 [==============================] - 0s 391ms/step\n",
      "1/1 [==============================] - 0s 389ms/step\n",
      "1/1 [==============================] - 0s 396ms/step\n",
      "1/1 [==============================] - 0s 384ms/step\n",
      "1/1 [==============================] - 0s 391ms/step\n",
      "1/1 [==============================] - 0s 408ms/step\n",
      "1/1 [==============================] - 0s 393ms/step\n",
      "1/1 [==============================] - 0s 383ms/step\n",
      "1/1 [==============================] - 0s 382ms/step\n",
      "1/1 [==============================] - 0s 389ms/step\n",
      "1/1 [==============================] - 0s 378ms/step\n",
      "1/1 [==============================] - 1s 508ms/step\n",
      "1/1 [==============================] - 0s 387ms/step\n",
      "1/1 [==============================] - 0s 387ms/step\n",
      "1/1 [==============================] - 0s 380ms/step\n",
      "1/1 [==============================] - 0s 388ms/step\n",
      "1/1 [==============================] - 0s 391ms/step\n",
      "1/1 [==============================] - 0s 377ms/step\n",
      "1/1 [==============================] - 0s 381ms/step\n",
      "1/1 [==============================] - 0s 402ms/step\n",
      "1/1 [==============================] - 0s 398ms/step\n",
      "1/1 [==============================] - 0s 409ms/step\n",
      "1/1 [==============================] - 0s 400ms/step\n",
      "1/1 [==============================] - 0s 403ms/step\n",
      "1/1 [==============================] - 0s 370ms/step\n",
      "1/1 [==============================] - 0s 405ms/step\n",
      "1/1 [==============================] - 0s 391ms/step\n",
      "1/1 [==============================] - 0s 393ms/step\n",
      "1/1 [==============================] - 0s 389ms/step\n",
      "1/1 [==============================] - 0s 387ms/step\n",
      "1/1 [==============================] - 0s 386ms/step\n",
      "1/1 [==============================] - 0s 381ms/step\n",
      "False\n"
     ]
    }
   ],
   "source": [
    "cap = cv2.VideoCapture(0)\n",
    "while cap.isOpened():\n",
    "    ret, frame = cap.read()\n",
    "    frame = frame[120:120+250,200:200+250, :]\n",
    "    \n",
    "    cv2.imshow('Verification', frame)\n",
    "    \n",
    "    # Verification trigger\n",
    "    if cv2.waitKey(10) & 0xFF == ord('v'):\n",
    "        # Save input image to application_data/input_image folder \n",
    "#         hsv = cv2.cvtColor(frame, cv2.COLOR_BGR2HSV)\n",
    "#         h, s, v = cv2.split(hsv)\n",
    "\n",
    "#         lim = 255 - 10\n",
    "#         v[v > lim] = 255\n",
    "#         v[v <= lim] -= 10\n",
    "        \n",
    "#         final_hsv = cv2.merge((h, s, v))\n",
    "#         img = cv2.cvtColor(final_hsv, cv2.COLOR_HSV2BGR)\n",
    "\n",
    "        cv2.imwrite(os.path.join('application_data', 'input_image', 'input_image.jpg'), frame)\n",
    "        # Run verification\n",
    "        results, verified = verify(siamese_model, 0.5, 0.5)\n",
    "        print(verified)\n",
    "    \n",
    "    if cv2.waitKey(10) & 0xFF == ord('q'):\n",
    "        break\n",
    "cap.release()\n",
    "cv2.destroyAllWindows()"
   ]
  },
  {
   "cell_type": "code",
   "execution_count": 115,
   "metadata": {
    "vscode": {
     "languageId": "python"
    }
   },
   "outputs": [
    {
     "data": {
      "text/plain": [
       "0"
      ]
     },
     "execution_count": 115,
     "metadata": {},
     "output_type": "execute_result"
    }
   ],
   "source": [
    "np.sum(np.squeeze(results) > 0.9)"
   ]
  },
  {
   "cell_type": "code",
   "execution_count": 116,
   "metadata": {
    "vscode": {
     "languageId": "python"
    }
   },
   "outputs": [
    {
     "data": {
      "text/plain": [
       "[array([[0.50003934]], dtype=float32),\n",
       " array([[0.5001157]], dtype=float32),\n",
       " array([[0.5003348]], dtype=float32),\n",
       " array([[0.50060886]], dtype=float32),\n",
       " array([[0.50087]], dtype=float32),\n",
       " array([[0.5007391]], dtype=float32),\n",
       " array([[0.5006399]], dtype=float32),\n",
       " array([[0.50065744]], dtype=float32),\n",
       " array([[0.4993866]], dtype=float32),\n",
       " array([[0.49961695]], dtype=float32),\n",
       " array([[0.4996317]], dtype=float32),\n",
       " array([[0.49968907]], dtype=float32),\n",
       " array([[0.5003375]], dtype=float32),\n",
       " array([[0.5005324]], dtype=float32),\n",
       " array([[0.50061274]], dtype=float32),\n",
       " array([[0.5004425]], dtype=float32),\n",
       " array([[0.5002974]], dtype=float32),\n",
       " array([[0.50040597]], dtype=float32),\n",
       " array([[0.50043935]], dtype=float32),\n",
       " array([[0.5003066]], dtype=float32),\n",
       " array([[0.50032496]], dtype=float32),\n",
       " array([[0.50031686]], dtype=float32),\n",
       " array([[0.50031424]], dtype=float32),\n",
       " array([[0.50037897]], dtype=float32),\n",
       " array([[0.50020784]], dtype=float32),\n",
       " array([[0.5002565]], dtype=float32),\n",
       " array([[0.5003818]], dtype=float32),\n",
       " array([[0.5001582]], dtype=float32),\n",
       " array([[0.5001618]], dtype=float32),\n",
       " array([[0.5001737]], dtype=float32),\n",
       " array([[0.5001726]], dtype=float32),\n",
       " array([[0.5001088]], dtype=float32),\n",
       " array([[0.50048965]], dtype=float32),\n",
       " array([[0.5000531]], dtype=float32),\n",
       " array([[0.50033003]], dtype=float32),\n",
       " array([[0.50029576]], dtype=float32),\n",
       " array([[0.5006999]], dtype=float32),\n",
       " array([[0.5006666]], dtype=float32),\n",
       " array([[0.5007387]], dtype=float32),\n",
       " array([[0.50038314]], dtype=float32),\n",
       " array([[0.5006155]], dtype=float32),\n",
       " array([[0.5005819]], dtype=float32),\n",
       " array([[0.5003398]], dtype=float32),\n",
       " array([[0.50041145]], dtype=float32),\n",
       " array([[0.5002727]], dtype=float32),\n",
       " array([[0.49988163]], dtype=float32),\n",
       " array([[0.49981076]], dtype=float32),\n",
       " array([[0.4999754]], dtype=float32),\n",
       " array([[0.49978328]], dtype=float32),\n",
       " array([[0.49951154]], dtype=float32),\n",
       " array([[0.50008696]], dtype=float32),\n",
       " array([[0.49974534]], dtype=float32),\n",
       " array([[0.49977896]], dtype=float32),\n",
       " array([[0.49986333]], dtype=float32),\n",
       " array([[0.5002296]], dtype=float32),\n",
       " array([[0.50068897]], dtype=float32),\n",
       " array([[0.50032467]], dtype=float32),\n",
       " array([[0.49966663]], dtype=float32),\n",
       " array([[0.49981844]], dtype=float32),\n",
       " array([[0.49940047]], dtype=float32),\n",
       " array([[0.50012565]], dtype=float32),\n",
       " array([[0.49957702]], dtype=float32),\n",
       " array([[0.5001818]], dtype=float32),\n",
       " array([[0.50031495]], dtype=float32),\n",
       " array([[0.50012743]], dtype=float32),\n",
       " array([[0.50002825]], dtype=float32),\n",
       " array([[0.50007874]], dtype=float32),\n",
       " array([[0.5000105]], dtype=float32),\n",
       " array([[0.5002184]], dtype=float32),\n",
       " array([[0.500264]], dtype=float32),\n",
       " array([[0.5001979]], dtype=float32),\n",
       " array([[0.49984667]], dtype=float32),\n",
       " array([[0.49949807]], dtype=float32),\n",
       " array([[0.50013924]], dtype=float32),\n",
       " array([[0.5005635]], dtype=float32),\n",
       " array([[0.50020516]], dtype=float32),\n",
       " array([[0.50039506]], dtype=float32),\n",
       " array([[0.5004723]], dtype=float32),\n",
       " array([[0.5002749]], dtype=float32),\n",
       " array([[0.5001407]], dtype=float32),\n",
       " array([[0.49991378]], dtype=float32),\n",
       " array([[0.5006652]], dtype=float32),\n",
       " array([[0.5001137]], dtype=float32),\n",
       " array([[0.49992022]], dtype=float32),\n",
       " array([[0.49995092]], dtype=float32),\n",
       " array([[0.5001772]], dtype=float32)]"
      ]
     },
     "execution_count": 116,
     "metadata": {},
     "output_type": "execute_result"
    }
   ],
   "source": [
    "results"
   ]
  }
 ],
 "metadata": {
  "colab": {
   "provenance": []
  },
  "kernelspec": {
   "display_name": "Python 3 (ipykernel)",
   "language": "python",
   "name": "python3"
  },
  "language_info": {
   "name": "",
   "version": ""
  }
 },
 "nbformat": 4,
 "nbformat_minor": 1
}
